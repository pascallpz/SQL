{
 "cells": [
  {
   "cell_type": "code",
   "execution_count": 4,
   "metadata": {},
   "outputs": [],
   "source": [
    "import bs4 \n",
    "import openpyxl\n",
    "import requests\n",
    "\n",
    "from bs4 import  BeautifulSoup\n",
    "\n",
    "source= requests.get('https://coreyms.com/')\n",
    "\n",
    "soup= BeautifulSoup(source.text,'html.parser')"
   ]
  },
  {
   "cell_type": "code",
   "execution_count": 5,
   "metadata": {},
   "outputs": [],
   "source": [
    "articles=soup.find('main',class_='content').find_all('article')"
   ]
  },
  {
   "cell_type": "code",
   "execution_count": 11,
   "metadata": {},
   "outputs": [
    {
     "name": "stdout",
     "output_type": "stream",
     "text": [
      "Python Tutorial: Zip Files – Creating and Extracting Zip Archives November 19, 2019 In this video, we will be learning how to create and extract zip archives. We will start by using the zipfile module, and then we will see how to do this using the shutil module. We will learn how to do this with single files and directories, as well as learning how to use gzip as well. Let’s get started… <span class=\"embed-youtube\" style=\"text-align:center; display: block;\"><iframe allowfullscreen=\"true\" class=\"youtube-player\" height=\"360\" sandbox=\"allow-scripts allow-same-origin allow-popups allow-presentation\" src=\"https://www.youtube.com/embed/z0gguhEmWiY?version=3&amp;rel=1&amp;showsearch=0&amp;showinfo=1&amp;iv_load_policy=1&amp;fs=1&amp;hl=en-US&amp;autohide=2&amp;wmode=transparent\" style=\"border:0;\" width=\"640\"></iframe></span>\n",
      "Python Data Science Tutorial: Analyzing the 2019 Stack Overflow Developer Survey October 17, 2019 In this Python Programming video, we will be learning how to download and analyze real-world data from the 2019 Stack Overflow Developer Survey. This is terrific practice for anyone getting into the data science field. We will learn different ways to analyze this data and also some best practices. Let’s get started… <span class=\"embed-youtube\" style=\"text-align:center; display: block;\"><iframe allowfullscreen=\"true\" class=\"youtube-player\" height=\"360\" sandbox=\"allow-scripts allow-same-origin allow-popups allow-presentation\" src=\"https://www.youtube.com/embed/_P7X8tMplsw?version=3&amp;rel=1&amp;showsearch=0&amp;showinfo=1&amp;iv_load_policy=1&amp;fs=1&amp;hl=en-US&amp;autohide=2&amp;wmode=transparent\" style=\"border:0;\" width=\"640\"></iframe></span>\n",
      "Python Multiprocessing Tutorial: Run Code in Parallel Using the Multiprocessing Module September 21, 2019 In this Python Programming video, we will be learning how to run code in parallel using the multiprocessing module. We will also look at how to process multiple high-resolution images at the same time using a ProcessPoolExecutor from the concurrent.futures module. Let’s get started… <span class=\"embed-youtube\" style=\"text-align:center; display: block;\"><iframe allowfullscreen=\"true\" class=\"youtube-player\" height=\"360\" sandbox=\"allow-scripts allow-same-origin allow-popups allow-presentation\" src=\"https://www.youtube.com/embed/fKl2JW_qrso?version=3&amp;rel=1&amp;showsearch=0&amp;showinfo=1&amp;iv_load_policy=1&amp;fs=1&amp;hl=en-US&amp;autohide=2&amp;wmode=transparent\" style=\"border:0;\" width=\"640\"></iframe></span>\n",
      "Python Threading Tutorial: Run Code Concurrently Using the Threading Module September 12, 2019 In this Python Programming video, we will be learning how to run threads concurrently using the threading module. We will also look at how to download multiple high-resolution images online using a ThreadPoolExecutor from the concurrent.futures module. Let’s get started… <span class=\"embed-youtube\" style=\"text-align:center; display: block;\"><iframe allowfullscreen=\"true\" class=\"youtube-player\" height=\"360\" sandbox=\"allow-scripts allow-same-origin allow-popups allow-presentation\" src=\"https://www.youtube.com/embed/IEEhzQoKtQU?version=3&amp;rel=1&amp;showsearch=0&amp;showinfo=1&amp;iv_load_policy=1&amp;fs=1&amp;hl=en-US&amp;autohide=2&amp;wmode=transparent\" style=\"border:0;\" width=\"640\"></iframe></span>\n",
      "Update (2019-09-03) September 3, 2019 Hey everyone. I wanted to give you an update on my videos. I will be releasing videos on threading and multiprocessing within the next week. Thanks so much for your patience. I currently have a temporary recording studio setup at my Airbnb that will allow me to record and edit the threading/multiprocessing videos. I am going to be moving into my new house in 10 days and once I have my recording studio setup then you can expect much faster video releases. I really appreciate how patient everyone has been while I go through this move, especially those of you who are contributing monthly through YouTube  None\n",
      "Python Quick Tip: The Difference Between “==” and “is” (Equality vs Identity) August 6, 2019 In this Python Programming Tutorial, we will be learning the difference between using “==” and the “is” keyword when doing comparisons. The difference between these is that “==” checks to see if values are equal, and the “is” keyword checks their identity, which means it’s going to check if the values are identical in terms of being the same object in memory. We’ll learn more in the video. Let’s get started… <span class=\"embed-youtube\" style=\"text-align:center; display: block;\"><iframe allowfullscreen=\"true\" class=\"youtube-player\" height=\"360\" sandbox=\"allow-scripts allow-same-origin allow-popups allow-presentation\" src=\"https://www.youtube.com/embed/mO_dS3rXDIs?version=3&amp;rel=1&amp;showsearch=0&amp;showinfo=1&amp;iv_load_policy=1&amp;fs=1&amp;hl=en-US&amp;autohide=2&amp;wmode=transparent\" style=\"border:0;\" width=\"640\"></iframe></span>\n",
      "Python Tutorial: Calling External Commands Using the Subprocess Module July 24, 2019 In this Python Programming Tutorial, we will be learning how to run external commands using the subprocess module from the standard library. We will learn how to run commands, capture the output, handle errors, and also how to pipe output into other commands. Let’s get started… <span class=\"embed-youtube\" style=\"text-align:center; display: block;\"><iframe allowfullscreen=\"true\" class=\"youtube-player\" height=\"360\" sandbox=\"allow-scripts allow-same-origin allow-popups allow-presentation\" src=\"https://www.youtube.com/embed/2Fp1N6dof0Y?version=3&amp;rel=1&amp;showsearch=0&amp;showinfo=1&amp;iv_load_policy=1&amp;fs=1&amp;hl=en-US&amp;autohide=2&amp;wmode=transparent\" style=\"border:0;\" width=\"640\"></iframe></span>\n",
      "Visual Studio Code (Windows) – Setting up a Python Development Environment and Complete Overview May 1, 2019 In this Python Programming Tutorial, we will be learning how to set up a Python development environment in VSCode on Windows. VSCode is a very nice free editor for writing Python applications and many developers are now switching over to this editor. In this video, we will learn how to install VSCode, get the Python extension installed, how to change Python interpreters, create virtual environments, format/lint our code, how to use Git within VSCode, how to debug our programs, how unit testing works, and more. We have a lot to cover, so let’s go ahead and get started… <span class=\"embed-youtube\" style=\"text-align:center; display: block;\"><iframe allowfullscreen=\"true\" class=\"youtube-player\" height=\"360\" sandbox=\"allow-scripts allow-same-origin allow-popups allow-presentation\" src=\"https://www.youtube.com/embed/-nh9rCzPJ20?version=3&amp;rel=1&amp;showsearch=0&amp;showinfo=1&amp;iv_load_policy=1&amp;fs=1&amp;hl=en-US&amp;autohide=2&amp;wmode=transparent\" style=\"border:0;\" width=\"640\"></iframe></span>\n",
      "Visual Studio Code (Mac) – Setting up a Python Development Environment and Complete Overview May 1, 2019 In this Python Programming Tutorial, we will be learning how to set up a Python development environment in VSCode on MacOS. VSCode is a very nice free editor for writing Python applications and many developers are now switching over to this editor. In this video, we will learn how to install VSCode, get the Python extension installed, how to change Python interpreters, create virtual environments, format/lint our code, how to use Git within VSCode, how to debug our programs, how unit testing works, and more. We have a lot to cover, so let’s go ahead and get started… <span class=\"embed-youtube\" style=\"text-align:center; display: block;\"><iframe allowfullscreen=\"true\" class=\"youtube-player\" height=\"360\" sandbox=\"allow-scripts allow-same-origin allow-popups allow-presentation\" src=\"https://www.youtube.com/embed/06I63_p-2A4?version=3&amp;rel=1&amp;showsearch=0&amp;showinfo=1&amp;iv_load_policy=1&amp;fs=1&amp;hl=en-US&amp;autohide=2&amp;wmode=transparent\" style=\"border:0;\" width=\"640\"></iframe></span>\n",
      "Clarifying the Issues with Mutable Default Arguments April 24, 2019 In this Python Programming Tutorial, we will be clarifying the issues with mutable default arguments. We discussed this in my last video titled “5 Common Python Mistakes and How to Fix Them”, but I received many comments from people who were still confused. So we will be doing a deeper dive to explain exactly what is going on here. Let’s get started… <span class=\"embed-youtube\" style=\"text-align:center; display: block;\"><iframe allowfullscreen=\"true\" class=\"youtube-player\" height=\"360\" sandbox=\"allow-scripts allow-same-origin allow-popups allow-presentation\" src=\"https://www.youtube.com/embed/_JGmemuINww?version=3&amp;rel=1&amp;showsearch=0&amp;showinfo=1&amp;iv_load_policy=1&amp;fs=1&amp;hl=en-US&amp;autohide=2&amp;wmode=transparent\" style=\"border:0;\" width=\"640\"></iframe></span>\n"
     ]
    }
   ],
   "source": [
    "for article in articles:\n",
    "    headline=article.find('h2',class_='entry-title').a.text\n",
    "    date=article.find('p',class_='entry-meta').find('time',class_='entry-time').text\n",
    "    body=article.find('div',class_='entry-content').p.text\n",
    "    vid=article.find('span',class_='embed-youtube')\n",
    "    print(headline,date,body,vid)\n",
    "    \n",
    "\n",
    "\n",
    "    "
   ]
  },
  {
   "cell_type": "code",
   "execution_count": null,
   "metadata": {},
   "outputs": [],
   "source": []
  }
 ],
 "metadata": {
  "kernelspec": {
   "display_name": "base",
   "language": "python",
   "name": "python3"
  },
  "language_info": {
   "codemirror_mode": {
    "name": "ipython",
    "version": 3
   },
   "file_extension": ".py",
   "mimetype": "text/x-python",
   "name": "python",
   "nbconvert_exporter": "python",
   "pygments_lexer": "ipython3",
   "version": "3.10.9"
  },
  "orig_nbformat": 4
 },
 "nbformat": 4,
 "nbformat_minor": 2
}
