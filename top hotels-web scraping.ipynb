{
 "cells": [
  {
   "cell_type": "code",
   "execution_count": null,
   "metadata": {},
   "outputs": [],
   "source": [
    "import requests\n",
    "from bs4 import BeautifulSoup\n",
    "import openpyxl\n",
    "excel=openpyxl.Workbook()\n",
    "import pandas as pd\n",
    "from tabulate import tabulate\n",
    "\n",
    "\n",
    "\n"
   ]
  },
  {
   "cell_type": "code",
   "execution_count": null,
   "metadata": {},
   "outputs": [],
   "source": [
    "source=requests.get('https://www.travelandleisure.com/worlds-best/best-hotels-in-the-world-2022')"
   ]
  },
  {
   "cell_type": "code",
   "execution_count": null,
   "metadata": {},
   "outputs": [],
   "source": [
    "soup=BeautifulSoup(source.text, 'html.parser')"
   ]
  },
  {
   "cell_type": "code",
   "execution_count": null,
   "metadata": {},
   "outputs": [],
   "source": [
    "tables=soup.find('div',class_='comp structured-content js-extended-commerce__section travelandleisure-sc-page mntl-sc-page mntl-block')\n"
   ]
  },
  {
   "cell_type": "code",
   "execution_count": null,
   "metadata": {},
   "outputs": [],
   "source": [
    "tables.find_all('h2',class_='comp mntl-sc-block travelandleisure-sc-block-heading mntl-sc-block-heading')\n"
   ]
  },
  {
   "cell_type": "code",
   "execution_count": 211,
   "metadata": {},
   "outputs": [
    {
     "data": {
      "text/plain": [
       "['1. Rosewood Castiglion del Bosco, Montalcino, Italy',\n",
       " '2. Grace Hotel, Auberge Resorts Collection, Santorini, Greece',\n",
       " '3. Waldorf Astoria Maldives Ithaafushi, South Malé Atoll, Maldives',\n",
       " '4. Pickering House Inn, Wolfeboro, New Hampshire',\n",
       " '5. (tie) One&Only Reethi Rah, North Malé Atoll, Maldives',\n",
       " '5. (tie) Royal Mansour Marrakech, Morocco',\n",
       " '7. Capella Ubud, Bali, Indonesia',\n",
       " '8. The Lowell, New York City',\n",
       " '9. Hôtel Madame Rêve, Paris',\n",
       " '10. (tie) Rosewood Villa Magna, Madrid',\n",
       " '10. (tie) The Oberoi, New Delhi',\n",
       " '12. The Oberoi Udaivilas, Udaipur, India',\n",
       " '13. Mandapa, a Ritz-Carlton Reserve, Bali, Indonesia',\n",
       " '14. Wilderness Safaris Bisate Lodge, Volcanoes National Park, Rwanda',\n",
       " '15. Portrait Firenze, Florence',\n",
       " '16. Raffles Istanbul',\n",
       " '17. The Oberoi, Marrakech, Morocco',\n",
       " '18. Capella Hanoi, Vietnam',\n",
       " '19. White Elephant Palm Beach, Florida',\n",
       " '20. The Loutrel, Charleston, South Carolina',\n",
       " '21. (tie) Monasterio, A Belmond Hotel, Cuzco, Peru',\n",
       " '21. (tie) Sani Asterias, Halkidiki, Greece',\n",
       " '23. Shangri-La the Shard, London',\n",
       " '24. Coquillade Provence Resort & Spa, Gargas, France',\n",
       " '25. (tie) Taj Palace, New Delhi',\n",
       " '25. (tie) Pendry Chicago',\n",
       " '27. Nayara Tented Camp, Arenal Volcano National Park, Costa Rica',\n",
       " '28. (tie) Hotel Belmar, Monteverde, Costa Rica',\n",
       " '28. (tie) Royal Champagne Hôtel & Spa, Champillon, France',\n",
       " '30. Under Canvas Mount Rushmore, Keystone, South Dakota',\n",
       " '31. (tie) Riggs Washington D.C.',\n",
       " '31. (tie) Waldorf Astoria Los Cabos Pedregal, Cabo San Lucas, Mexico',\n",
       " '33. (tie) The Oberoi Vanyavilas Wildlife Resort, Ranthambhore, India',\n",
       " '33. (tie) Canaves Oia Epitome, Santorini, Greece',\n",
       " '35. The Standard, Hua Hin, Thailand',\n",
       " '36. The Oberoi Amarvilas, Agra, India',\n",
       " '37. (tie) Hotel Santa Caterina, Amalfi, Italy',\n",
       " \"37. (tie) Raffles Grand Hotel d'Angkor, Siem Reap, Cambodia\",\n",
       " '37. (tie) Nihi Sumba, Sumba, Indonesia',\n",
       " '40. La Réserve Paris – Hôtel & Spa',\n",
       " '41. Hotel de la Ville, a Rocco Forte Hotel, Rome',\n",
       " '42. Il San Pietro di Positano, Italy',\n",
       " '43. Six Senses Yao Noi, Koh Yao Noi, Thailand',\n",
       " '44. Finca Cortesín Hotel, Golf & Spa, Málaga, Spain',\n",
       " '45. Secret Bay, Portsmouth, Dominica',\n",
       " '46. Cape Grace, Cape Town',\n",
       " '47. (tie) Taj Lake Palace, Udaipur, India',\n",
       " '47. (tie) Taj Falaknuma Palace, Hyderabad, India',\n",
       " '49. Alila Villas Uluwatu, Bali, Indonesia',\n",
       " '50. Manoir Hovey, North Hatley, Quebec',\n",
       " '51. (tie) Six Senses Con Dao, Con Dao, Vietnam',\n",
       " '51. (tie) Cavas Wine Lodge, Mendoza, Argentina',\n",
       " '53. Grand Hotel Tremezzo, Lake Como, Italy',\n",
       " '54. Nayara Springs, Arenal Volcano National Park, Costa Rica',\n",
       " '55. Lodge on Little St. Simons Island, Georgia',\n",
       " '56. Rancho Santana, Rivas, Nicaragua',\n",
       " '57. (tie) Amanpuri, Phuket, Thailand',\n",
       " '57. (tie) Mandarin Oriental, Marrakech, Morocco',\n",
       " '59. Namale Resort & Spa, Savusavu, Fiji',\n",
       " \"60. Gibb's Farm, Karatu, Tanzania\",\n",
       " '61. Jade Mountain, Soufrière, St. Lucia',\n",
       " '62. Borgo Egnazia, Savelletri di Fasano, Italy',\n",
       " '63. (tie) Four Seasons Hotel Kyoto, Japan',\n",
       " '63. (tie) San Ysidro Ranch, Santa Barbara, California',\n",
       " '65. The Goring, London',\n",
       " '66. The Oberoi Rajvilas, Jaipur, India',\n",
       " '67. Palm Island Resort, St. Vincent and the Grenadines',\n",
       " '68. Hotel Savoy, a Rocco Forte Hotel, Florence',\n",
       " '69. (tie) Rambagh Palace, Jaipur, India',\n",
       " \"69. (tie) Curtain Bluff, St. John's, Antigua\",\n",
       " '71. (tie) Morrison House Old Town Alexandria, Autograph Collection, Alexandria, Virginia',\n",
       " '71. (tie) The Lytle Park Hotel, Autograph Collection, Cincinnati',\n",
       " '73. Twin Farms, Barnard, Vermont',\n",
       " '74. Deer Path Inn, Lake Forest, Illinois',\n",
       " '75. (tie) One&Only Nyungwe House, Nyungwe Forest National Park, Rwanda',\n",
       " '75. (tie) W Santiago, Chile',\n",
       " '77. Shangri-La Singapore',\n",
       " \"78. L'Ermitage Beverly Hills, California\",\n",
       " '79. Silo Hotel, Cape Town',\n",
       " '80. Katikies Santorini, Greece',\n",
       " '81. Nobu Hotel Miami Beach',\n",
       " '82. The Shore Club, Providenciales, Turks and Caicos',\n",
       " '83. Taj Holiday Village Resort & Spa, Goa, India',\n",
       " '84. Mandarin Oriental, Bangkok',\n",
       " '85. Auberge Saint-Antoine, Quebec City',\n",
       " '86. Rosewood Miramar Beach, Montecito, California',\n",
       " '87. (tie) Rio Celeste Hideaway Hotel, Guanacaste, Costa Rica',\n",
       " '87. (tie) Hotel Caesar Augustus, Capri, Italy',\n",
       " '87. (tie) Grand Hotel Villa Serbelloni, Bellagio, Italy',\n",
       " '87. (tie) Le Bristol Paris, Oetker Collection',\n",
       " '91. Shangri-La Bosphorus, Istanbul',\n",
       " '92. The Palms Turks & Caicos, Providenciales, Turks and Caicos',\n",
       " '93. The Lodge at Blue Sky, Auberge Resorts Collection, Park City, Utah',\n",
       " '94. Little Palm Island Resort & Spa, Little Torch Key, Florida',\n",
       " '95. Le Sirenuse, Positano, Italy',\n",
       " '96. andBeyond Ngorongoro Crater Lodge, Ngorongoro Conservation Area, Tanzania',\n",
       " '97. (tie) Casa San Agustín, Cartagena, Colombia',\n",
       " '97. (tie) The Connaught, London',\n",
       " '99. Wentworth Mansion, Charleston, South Carolina',\n",
       " '100. (tie) Taj Lands End, Mumbai',\n",
       " '100. (tie) Birkenhead House, Hermanus, South Africa']"
      ]
     },
     "execution_count": 211,
     "metadata": {},
     "output_type": "execute_result"
    }
   ],
   "source": [
    "x=[]\n",
    "for row1 in tables.find_all('h2',class_='comp mntl-sc-block travelandleisure-sc-block-heading mntl-sc-block-heading'):\n",
    "    x.append(row1.text.strip())\n",
    "\n",
    "    \n",
    "x"
   ]
  }
 ],
 "metadata": {
  "kernelspec": {
   "display_name": "base",
   "language": "python",
   "name": "python3"
  },
  "language_info": {
   "codemirror_mode": {
    "name": "ipython",
    "version": 3
   },
   "file_extension": ".py",
   "mimetype": "text/x-python",
   "name": "python",
   "nbconvert_exporter": "python",
   "pygments_lexer": "ipython3",
   "version": "3.10.9"
  },
  "orig_nbformat": 4
 },
 "nbformat": 4,
 "nbformat_minor": 2
}
