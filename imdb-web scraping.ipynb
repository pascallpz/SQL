{
 "cells": [
  {
   "cell_type": "code",
   "execution_count": 2,
   "metadata": {},
   "outputs": [],
   "source": [
    "import bs4 \n",
    "import openpyxl\n",
    "import requests\n",
    "\n",
    "excel=openpyxl.Workbook()\n",
    "sheet=excel.active\n",
    "sheet.title='IMDB'\n",
    "sheet.append(['Rank','name','year','rating'])"
   ]
  },
  {
   "cell_type": "code",
   "execution_count": 3,
   "metadata": {},
   "outputs": [
    {
     "data": {
      "text/plain": [
       "<Response [200]>"
      ]
     },
     "execution_count": 3,
     "metadata": {},
     "output_type": "execute_result"
    }
   ],
   "source": [
    "source= requests.get('https://www.imdb.com/chart/top/')\n",
    "source.raise_for_status()\n",
    "source"
   ]
  },
  {
   "cell_type": "code",
   "execution_count": 4,
   "metadata": {},
   "outputs": [],
   "source": [
    "from bs4 import BeautifulSoup\n",
    "soup=BeautifulSoup(source.text,'html.parser')"
   ]
  },
  {
   "cell_type": "code",
   "execution_count": 5,
   "metadata": {},
   "outputs": [
    {
     "data": {
      "text/plain": [
       "250"
      ]
     },
     "execution_count": 5,
     "metadata": {},
     "output_type": "execute_result"
    }
   ],
   "source": [
    "movies=soup.find('tbody',class_='lister-list').find_all('tr')\n",
    "len(movies)\n"
   ]
  },
  {
   "cell_type": "code",
   "execution_count": 6,
   "metadata": {},
   "outputs": [],
   "source": [
    "for movie in movies:\n",
    "    rank=movie.find('td',class_='titleColumn').text.strip().split('.')[0]\n",
    "    name = movie.find('td',class_='titleColumn').a.text.strip()\n",
    "    year=movie.find('td',class_='titleColumn').span.text.strip('()')\n",
    "    rating=movie.find('td',class_='ratingColumn imdbRating').strong.text\n",
    "    sheet.append([rank,name,year,rating])\n",
    "    excel.save('imdb_top_rated_movies.xlsx')\n",
    "    "
   ]
  }
 ],
 "metadata": {
  "kernelspec": {
   "display_name": "base",
   "language": "python",
   "name": "python3"
  },
  "language_info": {
   "codemirror_mode": {
    "name": "ipython",
    "version": 3
   },
   "file_extension": ".py",
   "mimetype": "text/x-python",
   "name": "python",
   "nbconvert_exporter": "python",
   "pygments_lexer": "ipython3",
   "version": "3.10.9"
  },
  "orig_nbformat": 4
 },
 "nbformat": 4,
 "nbformat_minor": 2
}
