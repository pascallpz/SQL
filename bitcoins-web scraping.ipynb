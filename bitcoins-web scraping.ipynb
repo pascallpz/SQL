{
 "cells": [
  {
   "cell_type": "code",
   "execution_count": 250,
   "metadata": {},
   "outputs": [],
   "source": [
    "import requests\n",
    "from bs4 import BeautifulSoup\n",
    "import openpyxl\n",
    "excel=openpyxl.Workbook()\n",
    "import openpyxl\n",
    "excel=openpyxl.Workbook()\n",
    "sheet=excel.active\n",
    "sheet.title='Bitcoins'\n",
    "sheet.append(['Coinname','coinrate','dayrate','dayvolume','marketvolumes'])"
   ]
  },
  {
   "cell_type": "code",
   "execution_count": 251,
   "metadata": {},
   "outputs": [],
   "source": [
    "source=requests.get('https://crypto.com/price')\n",
    "source.raise_for_status()"
   ]
  },
  {
   "cell_type": "code",
   "execution_count": 252,
   "metadata": {},
   "outputs": [],
   "source": [
    "soup=BeautifulSoup(source.text,'html.parser')"
   ]
  },
  {
   "cell_type": "code",
   "execution_count": 253,
   "metadata": {},
   "outputs": [],
   "source": [
    "cryptosites=soup.find('tbody').findAll('tr')"
   ]
  },
  {
   "cell_type": "code",
   "execution_count": 254,
   "metadata": {},
   "outputs": [],
   "source": [
    "\n",
    "for cryptosite in cryptosites:\n",
    "    coinname=cryptosite.find('p').text\n",
    "    coinrate=cryptosite.find('div',class_=\"css-0\").text\n",
    "    dayrate=cryptosite.find('td',class_='css-1b7j986').p.text\n",
    "    dayvolume=cryptosite.find('td',class_='css-1nh9lk8').text\n",
    "    marketcaps=cryptosite.find_all('td',class_='css-1nh9lk8')\n",
    "     \n",
    "    marketvolumes=[]\n",
    "    for marketcap in marketcaps:\n",
    "            marketvolume=marketcap.text\n",
    "            marketvolumes.append(marketvolume)\n",
    "    marketvolumes[1]\n",
    "    sheet.append ([coinname, coinrate, dayrate, dayvolume, marketvolumes[1]])\n",
    "   \n",
    "\n"
   ]
  },
  {
   "cell_type": "code",
   "execution_count": 255,
   "metadata": {},
   "outputs": [],
   "source": [
    "excel.save('top_rated_coins.xlsx')\n"
   ]
  }
 ],
 "metadata": {
  "kernelspec": {
   "display_name": "base",
   "language": "python",
   "name": "python3"
  },
  "language_info": {
   "codemirror_mode": {
    "name": "ipython",
    "version": 3
   },
   "file_extension": ".py",
   "mimetype": "text/x-python",
   "name": "python",
   "nbconvert_exporter": "python",
   "pygments_lexer": "ipython3",
   "version": "3.10.9"
  },
  "orig_nbformat": 4
 },
 "nbformat": 4,
 "nbformat_minor": 2
}
